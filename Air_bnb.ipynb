{
 "cells": [
  {
   "cell_type": "code",
   "execution_count": 60,
   "id": "67a7fcbe-7187-421b-a18a-213ebea54be8",
   "metadata": {},
   "outputs": [
    {
     "name": "stdout",
     "output_type": "stream",
     "text": [
      "Requirement already satisfied: dmba in /Users/macdaniel/opt/anaconda3/lib/python3.8/site-packages (0.0.18)\n",
      "Requirement already satisfied: pydotplus in /Users/macdaniel/opt/anaconda3/lib/python3.8/site-packages (2.0.2)\n",
      "Requirement already satisfied: pyparsing>=2.0.1 in /Users/macdaniel/opt/anaconda3/lib/python3.8/site-packages (from pydotplus) (2.4.7)\n"
     ]
    }
   ],
   "source": [
    "import pandas as pd\n",
    "import numpy as np\n",
    "import pandas as pd\n",
    "import seaborn as sns\n",
    "import csv as csv\n",
    "import pydotplus\n",
    "\n",
    "import pandas as pd\n",
    "import numpy as np\n",
    "import matplotlib.pylab as plt\n",
    "import seaborn as sns\n",
    "from sklearn.model_selection import train_test_split\n",
    "from sklearn.linear_model import LinearRegression, Lasso, Ridge, LassoCV, BayesianRidge\n",
    "from sklearn.linear_model import LogisticRegression, LogisticRegressionCV\n",
    "!pip install dmba\n",
    "!pip install pydotplus\n",
    "from dmba import classificationSummary, gainsChart, liftChart\n",
    "from sklearn.ensemble import RandomForestClassifier"
   ]
  },
  {
   "cell_type": "code",
   "execution_count": 36,
   "id": "534eaa2c-d785-44c7-a2a5-2f4090dd4c36",
   "metadata": {},
   "outputs": [
    {
     "data": {
      "text/html": [
       "<div>\n",
       "<style scoped>\n",
       "    .dataframe tbody tr th:only-of-type {\n",
       "        vertical-align: middle;\n",
       "    }\n",
       "\n",
       "    .dataframe tbody tr th {\n",
       "        vertical-align: top;\n",
       "    }\n",
       "\n",
       "    .dataframe thead th {\n",
       "        text-align: right;\n",
       "    }\n",
       "</style>\n",
       "<table border=\"1\" class=\"dataframe\">\n",
       "  <thead>\n",
       "    <tr style=\"text-align: right;\">\n",
       "      <th></th>\n",
       "      <th>id</th>\n",
       "      <th>name</th>\n",
       "      <th>host_id</th>\n",
       "      <th>host_name</th>\n",
       "      <th>neighbourhood_group</th>\n",
       "      <th>neighbourhood</th>\n",
       "      <th>latitude</th>\n",
       "      <th>longitude</th>\n",
       "      <th>room_type</th>\n",
       "      <th>price</th>\n",
       "      <th>minimum_nights</th>\n",
       "      <th>number_of_reviews</th>\n",
       "      <th>last_review</th>\n",
       "      <th>reviews_per_month</th>\n",
       "      <th>calculated_host_listings_count</th>\n",
       "      <th>availability_365</th>\n",
       "    </tr>\n",
       "  </thead>\n",
       "  <tbody>\n",
       "    <tr>\n",
       "      <th>0</th>\n",
       "      <td>2539</td>\n",
       "      <td>Clean &amp; quiet apt home by the park</td>\n",
       "      <td>2787</td>\n",
       "      <td>John</td>\n",
       "      <td>Brooklyn</td>\n",
       "      <td>Kensington</td>\n",
       "      <td>40.64749</td>\n",
       "      <td>-73.97237</td>\n",
       "      <td>Private room</td>\n",
       "      <td>149</td>\n",
       "      <td>1</td>\n",
       "      <td>9</td>\n",
       "      <td>2018-10-19</td>\n",
       "      <td>0.21</td>\n",
       "      <td>6</td>\n",
       "      <td>365</td>\n",
       "    </tr>\n",
       "    <tr>\n",
       "      <th>1</th>\n",
       "      <td>2595</td>\n",
       "      <td>Skylit Midtown Castle</td>\n",
       "      <td>2845</td>\n",
       "      <td>Jennifer</td>\n",
       "      <td>Manhattan</td>\n",
       "      <td>Midtown</td>\n",
       "      <td>40.75362</td>\n",
       "      <td>-73.98377</td>\n",
       "      <td>Entire home/apt</td>\n",
       "      <td>225</td>\n",
       "      <td>1</td>\n",
       "      <td>45</td>\n",
       "      <td>2019-05-21</td>\n",
       "      <td>0.38</td>\n",
       "      <td>2</td>\n",
       "      <td>355</td>\n",
       "    </tr>\n",
       "    <tr>\n",
       "      <th>2</th>\n",
       "      <td>3647</td>\n",
       "      <td>THE VILLAGE OF HARLEM....NEW YORK !</td>\n",
       "      <td>4632</td>\n",
       "      <td>Elisabeth</td>\n",
       "      <td>Manhattan</td>\n",
       "      <td>Harlem</td>\n",
       "      <td>40.80902</td>\n",
       "      <td>-73.94190</td>\n",
       "      <td>Private room</td>\n",
       "      <td>150</td>\n",
       "      <td>3</td>\n",
       "      <td>0</td>\n",
       "      <td>NaN</td>\n",
       "      <td>NaN</td>\n",
       "      <td>1</td>\n",
       "      <td>365</td>\n",
       "    </tr>\n",
       "    <tr>\n",
       "      <th>3</th>\n",
       "      <td>3831</td>\n",
       "      <td>Cozy Entire Floor of Brownstone</td>\n",
       "      <td>4869</td>\n",
       "      <td>LisaRoxanne</td>\n",
       "      <td>Brooklyn</td>\n",
       "      <td>Clinton Hill</td>\n",
       "      <td>40.68514</td>\n",
       "      <td>-73.95976</td>\n",
       "      <td>Entire home/apt</td>\n",
       "      <td>89</td>\n",
       "      <td>1</td>\n",
       "      <td>270</td>\n",
       "      <td>2019-07-05</td>\n",
       "      <td>4.64</td>\n",
       "      <td>1</td>\n",
       "      <td>194</td>\n",
       "    </tr>\n",
       "    <tr>\n",
       "      <th>4</th>\n",
       "      <td>5022</td>\n",
       "      <td>Entire Apt: Spacious Studio/Loft by central park</td>\n",
       "      <td>7192</td>\n",
       "      <td>Laura</td>\n",
       "      <td>Manhattan</td>\n",
       "      <td>East Harlem</td>\n",
       "      <td>40.79851</td>\n",
       "      <td>-73.94399</td>\n",
       "      <td>Entire home/apt</td>\n",
       "      <td>80</td>\n",
       "      <td>10</td>\n",
       "      <td>9</td>\n",
       "      <td>2018-11-19</td>\n",
       "      <td>0.10</td>\n",
       "      <td>1</td>\n",
       "      <td>0</td>\n",
       "    </tr>\n",
       "  </tbody>\n",
       "</table>\n",
       "</div>"
      ],
      "text/plain": [
       "     id                                              name  host_id  \\\n",
       "0  2539                Clean & quiet apt home by the park     2787   \n",
       "1  2595                             Skylit Midtown Castle     2845   \n",
       "2  3647               THE VILLAGE OF HARLEM....NEW YORK !     4632   \n",
       "3  3831                   Cozy Entire Floor of Brownstone     4869   \n",
       "4  5022  Entire Apt: Spacious Studio/Loft by central park     7192   \n",
       "\n",
       "     host_name neighbourhood_group neighbourhood  latitude  longitude  \\\n",
       "0         John            Brooklyn    Kensington  40.64749  -73.97237   \n",
       "1     Jennifer           Manhattan       Midtown  40.75362  -73.98377   \n",
       "2    Elisabeth           Manhattan        Harlem  40.80902  -73.94190   \n",
       "3  LisaRoxanne            Brooklyn  Clinton Hill  40.68514  -73.95976   \n",
       "4        Laura           Manhattan   East Harlem  40.79851  -73.94399   \n",
       "\n",
       "         room_type  price  minimum_nights  number_of_reviews last_review  \\\n",
       "0     Private room    149               1                  9  2018-10-19   \n",
       "1  Entire home/apt    225               1                 45  2019-05-21   \n",
       "2     Private room    150               3                  0         NaN   \n",
       "3  Entire home/apt     89               1                270  2019-07-05   \n",
       "4  Entire home/apt     80              10                  9  2018-11-19   \n",
       "\n",
       "   reviews_per_month  calculated_host_listings_count  availability_365  \n",
       "0               0.21                               6               365  \n",
       "1               0.38                               2               355  \n",
       "2                NaN                               1               365  \n",
       "3               4.64                               1               194  \n",
       "4               0.10                               1                 0  "
      ]
     },
     "execution_count": 36,
     "metadata": {},
     "output_type": "execute_result"
    }
   ],
   "source": [
    "df = pd.read_csv('AB_NYC_2019.csv')\n",
    "\n",
    "df = pd.DataFrame(df)\n",
    "\n",
    "df.head()\n",
    "\n"
   ]
  },
  {
   "cell_type": "code",
   "execution_count": 37,
   "id": "433beaa9-15ab-47bb-a7d0-0ff7ac630b5b",
   "metadata": {},
   "outputs": [],
   "source": [
    "df_without_id = df.drop(columns=['id', 'host_id'])"
   ]
  },
  {
   "cell_type": "code",
   "execution_count": 38,
   "id": "80d99ace-dcad-445a-b92e-91156dccf034",
   "metadata": {},
   "outputs": [
    {
     "data": {
      "text/plain": [
       "id                                                                     929843218533\n",
       "host_id                                                               3306280420566\n",
       "neighbourhood_group               BrooklynManhattanManhattanBrooklynManhattanMan...\n",
       "neighbourhood                     KensingtonMidtownHarlemClinton HillEast Harlem...\n",
       "latitude                                                              1991441.95552\n",
       "longitude                                                            -3615891.33331\n",
       "room_type                         Private roomEntire home/aptPrivate roomEntire ...\n",
       "price                                                                       7467278\n",
       "minimum_nights                                                               343730\n",
       "number_of_reviews                                                           1138005\n",
       "reviews_per_month                                                          53340.04\n",
       "calculated_host_listings_count                                               349305\n",
       "availability_365                                                            5514443\n",
       "dtype: object"
      ]
     },
     "execution_count": 38,
     "metadata": {},
     "output_type": "execute_result"
    }
   ],
   "source": [
    "df.sum()"
   ]
  },
  {
   "cell_type": "code",
   "execution_count": 43,
   "id": "63c8cce9-45ca-4905-a7f4-ef8f14695371",
   "metadata": {},
   "outputs": [
    {
     "name": "stdout",
     "output_type": "stream",
     "text": [
      "                                latitude  longitude     price  minimum_nights  \\\n",
      "latitude                        1.000000   0.084788  0.033939        0.024869   \n",
      "longitude                       0.084788   1.000000 -0.150019       -0.062747   \n",
      "price                           0.033939  -0.150019  1.000000        0.042799   \n",
      "minimum_nights                  0.024869  -0.062747  0.042799        1.000000   \n",
      "number_of_reviews              -0.015389   0.059094 -0.047954       -0.080116   \n",
      "reviews_per_month              -0.018758   0.138516 -0.050564       -0.124905   \n",
      "calculated_host_listings_count  0.019517  -0.114713  0.057472        0.127960   \n",
      "availability_365               -0.010983   0.082731  0.081829        0.144303   \n",
      "\n",
      "                                number_of_reviews  reviews_per_month  \\\n",
      "latitude                                -0.015389          -0.018758   \n",
      "longitude                                0.059094           0.138516   \n",
      "price                                   -0.047954          -0.050564   \n",
      "minimum_nights                          -0.080116          -0.124905   \n",
      "number_of_reviews                        1.000000           0.589407   \n",
      "reviews_per_month                        0.589407           1.000000   \n",
      "calculated_host_listings_count          -0.072376          -0.047312   \n",
      "availability_365                         0.172028           0.163732   \n",
      "\n",
      "                                calculated_host_listings_count  \\\n",
      "latitude                                              0.019517   \n",
      "longitude                                            -0.114713   \n",
      "price                                                 0.057472   \n",
      "minimum_nights                                        0.127960   \n",
      "number_of_reviews                                    -0.072376   \n",
      "reviews_per_month                                    -0.047312   \n",
      "calculated_host_listings_count                        1.000000   \n",
      "availability_365                                      0.225701   \n",
      "\n",
      "                                availability_365  \n",
      "latitude                               -0.010983  \n",
      "longitude                               0.082731  \n",
      "price                                   0.081829  \n",
      "minimum_nights                          0.144303  \n",
      "number_of_reviews                       0.172028  \n",
      "reviews_per_month                       0.163732  \n",
      "calculated_host_listings_count          0.225701  \n",
      "availability_365                        1.000000  \n"
     ]
    }
   ],
   "source": [
    "\n",
    "\n",
    "df_without_id.isnull().sum()\n",
    "\n",
    "df_without_id_na = df_without_id.fillna(0)\n",
    "\n",
    "results = df_without_id_na.corr()\n",
    "\n",
    "\n",
    "print(results)"
   ]
  },
  {
   "cell_type": "code",
   "execution_count": 44,
   "id": "08c4a2f1-6ad6-432e-b19e-bb31ac5421b2",
   "metadata": {},
   "outputs": [
    {
     "data": {
      "image/png": "[encoded data removed]",
      "text/plain": [
       "<Figure size 1440x1440 with 2 Axes>"
      ]
     },
     "metadata": {
      "needs_background": "light"
     },
     "output_type": "display_data"
    }
   ],
   "source": [
    "%matplotlib inline\n",
    "fig, ax = plt.subplots()\n",
    "fig.set_size_inches(20, 20)\n",
    "sns.heatmap(results, annot=True, fmt=\".2f\", cmap=\"Purples\", ax=ax)\n",
    "plt.show()"
   ]
  },
  {
   "cell_type": "code",
   "execution_count": 45,
   "id": "8e631d62-b854-499e-9a29-45d3063dd90e",
   "metadata": {},
   "outputs": [],
   "source": [
    "predictors = ['latitude', 'longitude', 'minimum_nights', 'number_of_reviews', 'reviews_per_month', 'calculated_host_listings_count', 'availability_365']\n",
    "\n",
    "outcome = 'price'"
   ]
  },
  {
   "cell_type": "code",
   "execution_count": 46,
   "id": "ed889cf3-51bf-4ed2-9535-4dd9d086df2a",
   "metadata": {},
   "outputs": [],
   "source": [
    "X = df_without_id_na[predictors]\n",
    "y = df_without_id_na[outcome]"
   ]
  },
  {
   "cell_type": "code",
   "execution_count": 63,
   "id": "c539ca84-0c47-48e7-b6e7-653a6899b5bb",
   "metadata": {},
   "outputs": [
    {
     "name": "stdout",
     "output_type": "stream",
     "text": [
      "Requirement already satisfied: dmba in /Users/macdaniel/opt/anaconda3/lib/python3.8/site-packages (0.0.18)\n",
      "Collecting lime\n",
      "  Downloading lime-0.2.0.1.tar.gz (275 kB)\n",
      "\u001b[K     |████████████████████████████████| 275 kB 2.3 MB/s eta 0:00:01\n",
      "\u001b[?25hRequirement already satisfied: matplotlib in /Users/macdaniel/opt/anaconda3/lib/python3.8/site-packages (from lime) (3.4.1)\n",
      "Requirement already satisfied: numpy in /Users/macdaniel/opt/anaconda3/lib/python3.8/site-packages (from lime) (1.20.2)\n",
      "Requirement already satisfied: scipy in /Users/macdaniel/opt/anaconda3/lib/python3.8/site-packages (from lime) (1.6.3)\n",
      "Requirement already satisfied: tqdm in /Users/macdaniel/opt/anaconda3/lib/python3.8/site-packages (from lime) (4.59.0)\n",
      "Requirement already satisfied: scikit-learn>=0.18 in /Users/macdaniel/opt/anaconda3/lib/python3.8/site-packages (from lime) (0.24.2)\n",
      "Collecting scikit-image>=0.12\n",
      "  Downloading scikit_image-0.18.1-cp38-cp38-macosx_10_9_x86_64.whl (12.7 MB)\n",
      "\u001b[K     |████████████████████████████████| 12.7 MB 905 kB/s eta 0:00:01\n",
      "\u001b[?25hCollecting tifffile>=2019.7.26\n",
      "  Downloading tifffile-2021.4.8-py3-none-any.whl (165 kB)\n",
      "\u001b[K     |████████████████████████████████| 165 kB 1.3 MB/s eta 0:00:01\n",
      "\u001b[?25hCollecting PyWavelets>=1.1.1\n",
      "  Downloading PyWavelets-1.1.1-cp38-cp38-macosx_10_9_x86_64.whl (4.3 MB)\n",
      "\u001b[K     |████████████████████████████████| 4.3 MB 672 kB/s eta 0:00:01\n",
      "\u001b[?25hCollecting imageio>=2.3.0\n",
      "  Downloading imageio-2.9.0-py3-none-any.whl (3.3 MB)\n",
      "\u001b[K     |████████████████████████████████| 3.3 MB 1.1 MB/s eta 0:00:01\n",
      "\u001b[?25hRequirement already satisfied: pillow!=7.1.0,!=7.1.1,>=4.3.0 in /Users/macdaniel/opt/anaconda3/lib/python3.8/site-packages (from scikit-image>=0.12->lime) (8.2.0)\n",
      "Requirement already satisfied: networkx>=2.0 in /Users/macdaniel/opt/anaconda3/lib/python3.8/site-packages (from scikit-image>=0.12->lime) (2.5.1)\n",
      "Requirement already satisfied: pyparsing>=2.2.1 in /Users/macdaniel/opt/anaconda3/lib/python3.8/site-packages (from matplotlib->lime) (2.4.7)\n",
      "Requirement already satisfied: python-dateutil>=2.7 in /Users/macdaniel/opt/anaconda3/lib/python3.8/site-packages (from matplotlib->lime) (2.8.1)\n",
      "Requirement already satisfied: cycler>=0.10 in /Users/macdaniel/opt/anaconda3/lib/python3.8/site-packages (from matplotlib->lime) (0.10.0)\n",
      "Requirement already satisfied: kiwisolver>=1.0.1 in /Users/macdaniel/opt/anaconda3/lib/python3.8/site-packages (from matplotlib->lime) (1.3.1)\n",
      "Requirement already satisfied: six in /Users/macdaniel/opt/anaconda3/lib/python3.8/site-packages (from cycler>=0.10->matplotlib->lime) (1.15.0)\n",
      "Collecting decorator<5,>=4.3\n",
      "  Using cached decorator-4.4.2-py2.py3-none-any.whl (9.2 kB)\n",
      "Requirement already satisfied: joblib>=0.11 in /Users/macdaniel/opt/anaconda3/lib/python3.8/site-packages (from scikit-learn>=0.18->lime) (1.0.1)\n",
      "Requirement already satisfied: threadpoolctl>=2.0.0 in /Users/macdaniel/opt/anaconda3/lib/python3.8/site-packages (from scikit-learn>=0.18->lime) (2.1.0)\n",
      "Building wheels for collected packages: lime\n",
      "  Building wheel for lime (setup.py) ... \u001b[?25ldone\n",
      "\u001b[?25h  Created wheel for lime: filename=lime-0.2.0.1-py3-none-any.whl size=283845 sha256=34b41b0e8d350ad8b3a615dbc345aaccefe30d022c54f1a98288c807a1c3958c\n",
      "  Stored in directory: /Users/macdaniel/Library/Caches/pip/wheels/e6/a6/20/cc1e293fcdb67ede666fed293cb895395e7ecceb4467779546\n",
      "Successfully built lime\n",
      "Installing collected packages: decorator, tifffile, PyWavelets, imageio, scikit-image, lime\n",
      "  Attempting uninstall: decorator\n",
      "    Found existing installation: decorator 5.0.7\n",
      "    Uninstalling decorator-5.0.7:\n",
      "      Successfully uninstalled decorator-5.0.7\n",
      "Successfully installed PyWavelets-1.1.1 decorator-4.4.2 imageio-2.9.0 lime-0.2.0.1 scikit-image-0.18.1 tifffile-2021.4.8\n"
     ]
    }
   ],
   "source": [
    "import pandas as pd\n",
    "import numpy as np\n",
    "import seaborn as sns\n",
    "import matplotlib.pyplot as plt\n",
    "from sklearn.model_selection import train_test_split\n",
    "from sklearn.linear_model import LinearRegression, Lasso, Ridge, LassoCV, BayesianRidge\n",
    "from sklearn.linear_model import LogisticRegression, LogisticRegressionCV\n",
    "!pip install dmba\n",
    "from dmba import classificationSummary, gainsChart, liftChart\n",
    "from sklearn.ensemble import RandomForestClassifier\n",
    "!pip install lime\n",
    "from lime import lime_tabular"
   ]
  },
  {
   "cell_type": "code",
   "execution_count": 67,
   "id": "f6a36acf-c122-48b0-b8b4-220fca617e75",
   "metadata": {},
   "outputs": [],
   "source": [
    "import numpy as np\n",
    "from sklearn.model_selection import train_test_split\n",
    "train_X, valid_X, train_y, valid_y = train_test_split(X, y, test_size=0.3, random_state=1)\n"
   ]
  },
  {
   "cell_type": "code",
   "execution_count": 75,
   "id": "a56fa0c6-a744-4400-a41d-5809292f6680",
   "metadata": {},
   "outputs": [
    {
     "data": {
      "text/plain": [
       "'You need to install pydotplus to visualize decision trees'"
      ]
     },
     "execution_count": 75,
     "metadata": {},
     "output_type": "execute_result"
    }
   ],
   "source": [
    "from sklearn.tree import DecisionTreeClassifier\n",
    "from dmba import plotDecisionTree\n",
    "import pydotplus\n",
    "\n",
    "DecisionTree = DecisionTreeClassifier(max_depth = 4)\n",
    "DecisionTree.fit(train_X, train_y)\n",
    "\n",
    "plotDecisionTree(DecisionTree, feature_names=train_X.columns)\n",
    "\n"
   ]
  },
  {
   "cell_type": "code",
   "execution_count": null,
   "id": "31026f5b-8151-4cc3-b4b6-d3dd933b57c9",
   "metadata": {},
   "outputs": [],
   "source": []
  }
 ],
 "metadata": {
  "kernelspec": {
   "display_name": "Python 3.7.9 64-bit ('base')",
   "language": "python",
   "name": "python37964bitbase682e5a2481a045f7b115c22ff9d8164b"
  },
  "language_info": {
   "codemirror_mode": {
    "name": "ipython",
    "version": 3
   },
   "file_extension": ".py",
   "mimetype": "text/x-python",
   "name": "python",
   "nbconvert_exporter": "python",
   "pygments_lexer": "ipython3",
   "version": "3.8.5"
  }
 },
 "nbformat": 4,
 "nbformat_minor": 5
}
